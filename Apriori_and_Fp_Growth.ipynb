{
  "nbformat": 4,
  "nbformat_minor": 0,
  "metadata": {
    "colab": {
      "name": "CSE477 Apriori and Fp-Growth.ipynb",
      "provenance": [],
      "collapsed_sections": []
    },
    "kernelspec": {
      "name": "python3",
      "display_name": "Python 3"
    },
    "language_info": {
      "name": "python"
    }
  },
  "cells": [
    {
      "cell_type": "code",
      "metadata": {
        "id": "j2-nDn7M4Hch",
        "colab": {
          "base_uri": "https://localhost:8080/"
        },
        "outputId": "06f85808-1173-4434-fcbe-638f5c151f9c"
      },
      "source": [
        "pip install mlxtend --upgrade --no-deps"
      ],
      "execution_count": null,
      "outputs": [
        {
          "output_type": "stream",
          "text": [
            "Requirement already up-to-date: mlxtend in /usr/local/lib/python3.7/dist-packages (0.18.0)\n"
          ],
          "name": "stdout"
        }
      ]
    },
    {
      "cell_type": "code",
      "metadata": {
        "id": "YL0SyjRb1xxO"
      },
      "source": [
        "import numpy as np\n",
        "import time\n",
        "import matplotlib.pyplot as plt\n",
        "import pandas as pd\n",
        "from mlxtend.frequent_patterns import apriori, association_rules,fpgrowth\n",
        "from mlxtend.preprocessing import TransactionEncoder\n",
        "import csv"
      ],
      "execution_count": null,
      "outputs": []
    },
    {
      "cell_type": "markdown",
      "metadata": {
        "id": "7zGQrv3Bp8EO"
      },
      "source": [
        "# Apriori On chess"
      ]
    },
    {
      "cell_type": "code",
      "metadata": {
        "id": "gUGa8V3qp6pL"
      },
      "source": [
        "items=[]\n",
        "with open('/content/chess.dat', 'r') as file:\n",
        "    dataset = csv.reader(file, delimiter=' ')\n",
        "    for row in dataset:\n",
        "        temp=[element for element in row]\n",
        "        temp= temp[:-1]\n",
        "        items.append(temp)"
      ],
      "execution_count": null,
      "outputs": []
    },
    {
      "cell_type": "code",
      "metadata": {
        "colab": {
          "base_uri": "https://localhost:8080/"
        },
        "id": "pXi2cVsep6pN",
        "outputId": "e75b3730-bd2d-44ef-b51b-222aa784a9b5"
      },
      "source": [
        "\n",
        "apc_times = list()\n",
        "apc_elements = list()\n",
        "minsupport = .6\n",
        "while minsupport <=1:\n",
        "  start = time.process_time()\n",
        "  te = TransactionEncoder()\n",
        "  te_ary = te.fit(items).transform(items)\n",
        "  df = pd.DataFrame(te_ary, columns=te.columns_)\n",
        "  result= apriori(df, min_support= minsupport, use_colnames=True)\n",
        "  apc_elements.append(minsupport)    \n",
        "  end = time.process_time()\n",
        "  apc_times.append(end-start)\n",
        "  print (result)\n",
        "  # total time taken\n",
        "  print(f\"Runtime of the program is {end - start}\")\n",
        "  minsupport +=.05"
      ],
      "execution_count": null,
      "outputs": [
        {
          "output_type": "stream",
          "text": [
            "         support                                           itemsets\n",
            "0       0.666145                                               (11)\n",
            "1       0.633917                                               (15)\n",
            "2       0.782228                                               (17)\n",
            "3       0.619524                                               (19)\n",
            "4       0.696183                                               (21)\n",
            "...          ...                                                ...\n",
            "254939  0.600125  (62, 29, 34, 60, 66, 5, 58, 48, 56, 9, 3, 52, ...\n",
            "254940  0.607009  (62, 29, 34, 7, 60, 66, 58, 48, 56, 9, 3, 52, ...\n",
            "254941  0.601377  (62, 29, 34, 7, 60, 66, 5, 58, 56, 9, 3, 52, 4...\n",
            "254942  0.611702  (62, 29, 7, 60, 66, 5, 42, 58, 48, 56, 34, 52,...\n",
            "254943  0.635795  (62, 29, 7, 60, 66, 5, 58, 48, 56, 9, 34, 52, ...\n",
            "\n",
            "[254944 rows x 2 columns]\n",
            "Runtime of the program is 32.93123393399998\n",
            "         support                                           itemsets\n",
            "0       0.666145                                               (11)\n",
            "1       0.782228                                               (17)\n",
            "2       0.696183                                               (21)\n",
            "3       0.894869                                               (25)\n",
            "4       0.689925                                               (27)\n",
            "...          ...                                                ...\n",
            "111234  0.656446  (29, 7, 60, 66, 5, 58, 48, 56, 9, 34, 52, 40, 36)\n",
            "111235  0.658010  (62, 29, 7, 60, 66, 5, 58, 48, 9, 34, 52, 40, 36)\n",
            "111236  0.666145  (62, 29, 7, 60, 66, 58, 48, 56, 9, 34, 52, 40,...\n",
            "111237  0.659887  (62, 29, 7, 60, 66, 5, 58, 56, 9, 34, 52, 40, 36)\n",
            "111238  0.652065  (62, 29, 7, 60, 66, 5, 58, 48, 56, 9, 52, 40, 36)\n",
            "\n",
            "[111239 rows x 2 columns]\n",
            "Runtime of the program is 12.636718033000022\n",
            "        support                                           itemsets\n",
            "0      0.782228                                               (17)\n",
            "1      0.894869                                               (25)\n",
            "2      0.995307                                               (29)\n",
            "3      0.888298                                                (3)\n",
            "4      0.790363                                               (31)\n",
            "...         ...                                                ...\n",
            "48726  0.705569     (62, 29, 7, 60, 66, 5, 58, 48, 56, 34, 52, 36)\n",
            "48727  0.710263     (62, 29, 7, 60, 66, 5, 58, 48, 56, 34, 52, 40)\n",
            "48728  0.720901     (62, 29, 7, 60, 66, 5, 58, 48, 56, 52, 40, 36)\n",
            "48729  0.702753     (62, 7, 60, 66, 5, 58, 48, 56, 34, 52, 40, 36)\n",
            "48730  0.702128  (62, 29, 7, 60, 66, 5, 58, 48, 56, 34, 52, 40,...\n",
            "\n",
            "[48731 rows x 2 columns]\n",
            "Runtime of the program is 5.386593329999982\n",
            "        support                                     itemsets\n",
            "0      0.782228                                         (17)\n",
            "1      0.894869                                         (25)\n",
            "2      0.995307                                         (29)\n",
            "3      0.888298                                          (3)\n",
            "4      0.790363                                         (31)\n",
            "...         ...                                          ...\n",
            "20841  0.758135   (62, 29, 7, 60, 66, 5, 58, 34, 52, 40, 36)\n",
            "20842  0.761890  (62, 29, 7, 60, 66, 58, 56, 34, 52, 40, 36)\n",
            "20843  0.756571   (62, 29, 7, 60, 66, 5, 58, 56, 34, 52, 40)\n",
            "20844  0.755945   (62, 29, 7, 60, 66, 5, 58, 48, 52, 40, 36)\n",
            "20845  0.770025  (62, 29, 7, 60, 66, 58, 48, 56, 52, 40, 36)\n",
            "\n",
            "[20846 rows x 2 columns]\n",
            "Runtime of the program is 1.6779625059999717\n",
            "       support                                  itemsets\n",
            "0     0.894869                                      (25)\n",
            "1     0.995307                                      (29)\n",
            "2     0.888298                                       (3)\n",
            "3     0.951189                                      (34)\n",
            "4     0.969650                                      (36)\n",
            "...        ...                                       ...\n",
            "8222  0.806320       (62, 7, 60, 66, 58, 48, 52, 40, 36)\n",
            "8223  0.803191  (62, 29, 60, 66, 58, 48, 34, 52, 40, 36)\n",
            "8224  0.804130   (29, 7, 60, 66, 58, 48, 34, 52, 40, 36)\n",
            "8225  0.801627   (62, 29, 7, 60, 58, 48, 56, 52, 40, 36)\n",
            "8226  0.805069   (62, 29, 7, 60, 66, 58, 48, 52, 40, 36)\n",
            "\n",
            "[8227 rows x 2 columns]\n",
            "Runtime of the program is 0.8148446669999885\n",
            "       support                          itemsets\n",
            "0     0.894869                              (25)\n",
            "1     0.995307                              (29)\n",
            "2     0.888298                               (3)\n",
            "3     0.951189                              (34)\n",
            "4     0.969650                              (36)\n",
            "...        ...                               ...\n",
            "2664  0.866395   (29, 7, 60, 66, 58, 52, 40, 36)\n",
            "2665  0.850438   (29, 7, 60, 66, 58, 48, 52, 40)\n",
            "2666  0.853567  (62, 29, 60, 66, 58, 56, 52, 40)\n",
            "2667  0.860763   (62, 29, 7, 60, 58, 56, 52, 40)\n",
            "2668  0.859512   (62, 29, 7, 60, 66, 58, 52, 40)\n",
            "\n",
            "[2669 rows x 2 columns]\n",
            "Runtime of the program is 0.3279978539999888\n",
            "      support                      itemsets\n",
            "0    0.995307                          (29)\n",
            "1    0.951189                          (34)\n",
            "2    0.969650                          (36)\n",
            "3    0.991865                          (40)\n",
            "4    0.942741                          (48)\n",
            "..        ...                           ...\n",
            "617  0.906446       (7, 60, 58, 52, 40, 36)\n",
            "618  0.910513  (29, 60, 58, 48, 52, 40, 36)\n",
            "619  0.900501  (62, 29, 60, 58, 52, 40, 36)\n",
            "620  0.901126  (29, 60, 66, 58, 52, 40, 36)\n",
            "621  0.904255   (29, 7, 60, 58, 52, 40, 36)\n",
            "\n",
            "[622 rows x 2 columns]\n",
            "Runtime of the program is 0.11226917199996933\n",
            "     support              itemsets\n",
            "0   0.995307                  (29)\n",
            "1   0.951189                  (34)\n",
            "2   0.969650                  (36)\n",
            "3   0.991865                  (40)\n",
            "4   0.996558                  (52)\n",
            "..       ...                   ...\n",
            "72  0.951189      (60, 58, 52, 36)\n",
            "73  0.973717      (60, 58, 40, 52)\n",
            "74  0.950563       (7, 58, 40, 52)\n",
            "75  0.953066  (29, 58, 52, 40, 36)\n",
            "76  0.969650  (29, 60, 58, 52, 40)\n",
            "\n",
            "[77 rows x 2 columns]\n",
            "Runtime of the program is 0.04622887099998252\n"
          ],
          "name": "stdout"
        }
      ]
    },
    {
      "cell_type": "code",
      "metadata": {
        "id": "hg9VRv_-MCIw",
        "colab": {
          "base_uri": "https://localhost:8080/",
          "height": 279
        },
        "outputId": "c7e8b185-ca93-48aa-bbb6-7126afcf1cb6"
      },
      "source": [
        "plt.xlabel('Minimum Threshold')\n",
        "plt.ylabel('Time Complexity')\n",
        "plt.plot(apc_elements, apc_times, label ='Apriori')\n",
        "plt.grid()\n",
        "plt.legend()\n",
        "plt.savefig('AprioriChess.pdf',bbox_inches='tight')\n",
        "plt.show()\n"
      ],
      "execution_count": null,
      "outputs": [
        {
          "output_type": "display_data",
          "data": {
            "image/png": "[encoded data removed]",
            "text/plain": [
              "<Figure size 432x288 with 1 Axes>"
            ]
          },
          "metadata": {
            "tags": [],
            "needs_background": "light"
          }
        }
      ]
    },
    {
      "cell_type": "markdown",
      "metadata": {
        "id": "Y_Y42144qw8p"
      },
      "source": [
        "# FP-Growth on Chess"
      ]
    },
    {
      "cell_type": "code",
      "metadata": {
        "id": "ZQehzTRLqw8r"
      },
      "source": [
        "items=[]\n",
        "with open('/content/chess.dat', 'r') as file:\n",
        "    dataset = csv.reader(file, delimiter=' ')\n",
        "    for row in dataset:\n",
        "        temp=[element for element in row]\n",
        "        items.append(temp)"
      ],
      "execution_count": null,
      "outputs": []
    },
    {
      "cell_type": "code",
      "metadata": {
        "colab": {
          "base_uri": "https://localhost:8080/"
        },
        "id": "NDmngzHiqw8s",
        "outputId": "c9ecccb6-1fe2-40f5-e882-f06c619696a7"
      },
      "source": [
        "\n",
        "fpc_times = list()\n",
        "fpc_elements = list()\n",
        "minsupport = .6\n",
        "while minsupport <=1:\n",
        "  start = time.process_time()\n",
        "  te = TransactionEncoder()\n",
        "  te_ary = te.fit(items).transform(items)\n",
        "  df = pd.DataFrame(te_ary, columns=te.columns_)\n",
        "  result= fpgrowth(df, min_support= minsupport, use_colnames=True)\n",
        "  fpc_elements.append(minsupport)    \n",
        "  end = time.process_time()\n",
        "  fpc_times.append(end-start)\n",
        "  print (result)\n",
        "  # total time taken\n",
        "  print(f\"Runtime of the program is {end - start}\")\n",
        "  minsupport +=.05"
      ],
      "execution_count": null,
      "outputs": [
        {
          "output_type": "stream",
          "text": [
            "         support               itemsets\n",
            "0       1.000000                     ()\n",
            "1       0.999687                   (58)\n",
            "2       0.996558                   (52)\n",
            "3       0.995307                   (29)\n",
            "4       0.991865                   (40)\n",
            "...          ...                    ...\n",
            "509884  0.600751     (, 62, 50, 58, 40)\n",
            "509885  0.600751      (, 62, 50, 7, 58)\n",
            "509886  0.600751      (, 62, 50, 7, 40)\n",
            "509887  0.600751    (62, 50, 7, 58, 40)\n",
            "509888  0.600751  (, 62, 50, 7, 58, 40)\n",
            "\n",
            "[509889 rows x 2 columns]\n",
            "Runtime of the program is 10.350887645\n",
            "         support        itemsets\n",
            "0       1.000000              ()\n",
            "1       0.999687            (58)\n",
            "2       0.996558            (52)\n",
            "3       0.995307            (29)\n",
            "4       0.991865            (40)\n",
            "...          ...             ...\n",
            "222474  0.653630      (, 60, 11)\n",
            "222475  0.653317    (60, 11, 58)\n",
            "222476  0.650188    (60, 11, 52)\n",
            "222477  0.653317  (, 60, 11, 58)\n",
            "222478  0.650188  (, 60, 11, 52)\n",
            "\n",
            "[222479 rows x 2 columns]\n",
            "Runtime of the program is 4.888346913000021\n",
            "        support                       itemsets\n",
            "0      1.000000                             ()\n",
            "1      0.999687                           (58)\n",
            "2      0.996558                           (52)\n",
            "3      0.995307                           (29)\n",
            "4      0.991865                           (40)\n",
            "...         ...                            ...\n",
            "97458  0.702753      (, 7, 60, 66, 58, 72, 52)\n",
            "97459  0.702753      (, 29, 7, 60, 66, 58, 72)\n",
            "97460  0.702753      (, 29, 7, 60, 66, 72, 52)\n",
            "97461  0.702753    (29, 7, 60, 66, 58, 72, 52)\n",
            "97462  0.702753  (, 29, 7, 60, 66, 58, 72, 52)\n",
            "\n",
            "[97463 rows x 2 columns]\n",
            "Runtime of the program is 1.954816429999994\n",
            "        support        itemsets\n",
            "0      1.000000              ()\n",
            "1      0.999687            (58)\n",
            "2      0.996558            (52)\n",
            "3      0.995307            (29)\n",
            "4      0.991865            (40)\n",
            "...         ...             ...\n",
            "41688  0.751877    (36, 58, 17)\n",
            "41689  0.751877  (, 36, 58, 17)\n",
            "41690  0.753129          (, 74)\n",
            "41691  0.752816        (58, 74)\n",
            "41692  0.752816      (, 58, 74)\n",
            "\n",
            "[41693 rows x 2 columns]\n",
            "Runtime of the program is 0.9456516100000272\n",
            "        support                itemsets\n",
            "0      1.000000                      ()\n",
            "1      0.999687                    (58)\n",
            "2      0.996558                    (52)\n",
            "3      0.995307                    (29)\n",
            "4      0.991865                    (40)\n",
            "...         ...                     ...\n",
            "16450  0.800688    (29, 58, 44, 52, 40)\n",
            "16451  0.800688  (, 29, 58, 44, 52, 40)\n",
            "16452  0.802566              (, 60, 44)\n",
            "16453  0.802253            (60, 58, 44)\n",
            "16454  0.802253          (, 60, 58, 44)\n",
            "\n",
            "[16455 rows x 2 columns]\n",
            "Runtime of the program is 0.49835907900001075\n",
            "       support           itemsets\n",
            "0     1.000000                 ()\n",
            "1     0.999687               (58)\n",
            "2     0.996558               (52)\n",
            "3     0.995307               (29)\n",
            "4     0.991865               (40)\n",
            "...        ...                ...\n",
            "5334  0.852315        (62, 29, 3)\n",
            "5335  0.852315      (, 62, 58, 3)\n",
            "5336  0.852315      (, 62, 29, 3)\n",
            "5337  0.852315    (62, 29, 58, 3)\n",
            "5338  0.852315  (, 62, 29, 58, 3)\n",
            "\n",
            "[5339 rows x 2 columns]\n",
            "Runtime of the program is 0.1879118599999856\n",
            "       support           itemsets\n",
            "0     1.000000                 ()\n",
            "1     0.999687               (58)\n",
            "2     0.996558               (52)\n",
            "3     0.995307               (29)\n",
            "4     0.991865               (40)\n",
            "...        ...                ...\n",
            "1240  0.902378    (29, 34, 5, 58)\n",
            "1241  0.902378  (, 29, 5, 58, 34)\n",
            "1242  0.901126      (, 34, 5, 52)\n",
            "1243  0.900814    (34, 5, 52, 58)\n",
            "1244  0.900814  (, 58, 5, 34, 52)\n",
            "\n",
            "[1245 rows x 2 columns]\n",
            "Runtime of the program is 0.12312034900003255\n",
            "      support        itemsets\n",
            "0    1.000000              ()\n",
            "1    0.999687            (58)\n",
            "2    0.996558            (52)\n",
            "3    0.995307            (29)\n",
            "4    0.991865            (40)\n",
            "..        ...             ...\n",
            "150  0.952753    (62, 29, 58)\n",
            "151  0.952753  (, 62, 29, 58)\n",
            "152  0.951189          (, 34)\n",
            "153  0.950876        (34, 58)\n",
            "154  0.950876      (, 34, 58)\n",
            "\n",
            "[155 rows x 2 columns]\n",
            "Runtime of the program is 0.0929922509999983\n"
          ],
          "name": "stdout"
        }
      ]
    },
    {
      "cell_type": "code",
      "metadata": {
        "colab": {
          "base_uri": "https://localhost:8080/",
          "height": 279
        },
        "id": "D5k22An8qw8u",
        "outputId": "269a3a77-4139-412d-f4e0-2be8f3c2dfd5"
      },
      "source": [
        "plt.xlabel('Minimum Threshold')\n",
        "plt.ylabel('Time Complexity')\n",
        "plt.plot(fpc_elements, fpc_times, label ='Fp-Growth')\n",
        "plt.grid()\n",
        "plt.legend()\n",
        "plt.savefig('FpgrowthChess.pdf',bbox_inches='tight')\n",
        "plt.show()\n"
      ],
      "execution_count": null,
      "outputs": [
        {
          "output_type": "display_data",
          "data": {
            "image/png": "[encoded data removed]",
            "text/plain": [
              "<Figure size 432x288 with 1 Axes>"
            ]
          },
          "metadata": {
            "tags": [],
            "needs_background": "light"
          }
        }
      ]
    },
    {
      "cell_type": "code",
      "metadata": {
        "colab": {
          "base_uri": "https://localhost:8080/",
          "height": 279
        },
        "id": "Mpe4JNqzL5xG",
        "outputId": "003f5e42-db50-4312-cb27-4496837e8493"
      },
      "source": [
        "plt.xlabel('Minimum Threshold')\n",
        "plt.ylabel('Time Complexity')\n",
        "plt.plot(apc_elements, apc_times, label ='Apriori')\n",
        "plt.plot(fpc_elements, fpc_times, label ='Fp-Growth')\n",
        "plt.grid()\n",
        "plt.legend()\n",
        "plt.savefig('chesscombine.pdf',bbox_inches='tight')\n",
        "plt.show()\n",
        "\n",
        "\n",
        "\n"
      ],
      "execution_count": null,
      "outputs": [
        {
          "output_type": "display_data",
          "data": {
            "image/png": "[encoded data removed]",
            "text/plain": [
              "<Figure size 432x288 with 1 Axes>"
            ]
          },
          "metadata": {
            "tags": [],
            "needs_background": "light"
          }
        }
      ]
    },
    {
      "cell_type": "code",
      "metadata": {
        "id": "SCPPiTRTMp-o"
      },
      "source": [
        "data={\"Apriori\":apc_times,\"Fp-Growth\":fpc_times}\n",
        "index = [0.6,0.65,0.70,0.75,0.80,0.85,0.90,0.95]\n",
        "dataFrame = pd.DataFrame(data=data, index=index);\n",
        "\n",
        " \n",
        "my_colors = ['lightseagreen','sandybrown']\n",
        "# Draw a vertical bar chart\n",
        "\n",
        "dataFrame.plot.bar(rot=15,color=my_colors);\n",
        "plt.legend(loc='upper center', bbox_to_anchor=(0.5, 1.2))\n",
        "plt.ylabel(\"Times Taken to Run The Algorithms\")\n",
        "plt.xlabel(\"Thresholds\")\n",
        "plt.savefig('Chess.pdf',bbox_inches='tight')\n",
        "\n",
        "plt.show(block=True);"
      ],
      "execution_count": null,
      "outputs": []
    },
    {
      "cell_type": "markdown",
      "metadata": {
        "id": "krJgZ24kqLj9"
      },
      "source": [
        "# Apriori on Kosarak"
      ]
    },
    {
      "cell_type": "code",
      "metadata": {
        "id": "Gla6HsNw4BYh"
      },
      "source": [
        "items=[]\n",
        "with open('/content/kosarak.dat', 'r') as file:\n",
        "    dataset = csv.reader(file, delimiter=' ')\n",
        "    for row in dataset:\n",
        "        temp=[element for element in row]\n",
        "        #temp= temp[:-1]\n",
        "        items.append(temp)"
      ],
      "execution_count": null,
      "outputs": []
    },
    {
      "cell_type": "code",
      "metadata": {
        "id": "7ylgvNtVLBL0"
      },
      "source": [
        "del items[200000:]"
      ],
      "execution_count": null,
      "outputs": []
    },
    {
      "cell_type": "code",
      "metadata": {
        "colab": {
          "base_uri": "https://localhost:8080/"
        },
        "id": "BxD0Z9G9Mw1k",
        "outputId": "8747ac3b-20f9-4af0-d934-c4f54a25e85f"
      },
      "source": [
        "\n",
        "apk_times = list()\n",
        "apk_elements = list()\n",
        "minsupport = .1\n",
        "while minsupport <=.6:\n",
        "  start = time.process_time()\n",
        "  te = TransactionEncoder()\n",
        "  te_ary = te.fit(items).transform(items)\n",
        "  df = pd.DataFrame(te_ary, columns=te.columns_)\n",
        "  \n",
        "  result= apriori(df, min_support= minsupport, use_colnames=True)\n",
        "  end = time.process_time()\n",
        "  apk_elements.append(minsupport)    \n",
        "  \n",
        "  apk_times.append(end-start)\n",
        "  print (result)\n",
        "  # total time taken\n",
        "  print(f\"Runtime of the program is {end - start}\")\n",
        "  minsupport +=.1"
      ],
      "execution_count": null,
      "outputs": [
        {
          "output_type": "stream",
          "text": [
            "    support    itemsets\n",
            "0  0.198790         (1)\n",
            "1  0.365915        (11)\n",
            "2  0.456225         (3)\n",
            "3  0.607165         (6)\n",
            "4  0.132615      (1, 6)\n",
            "5  0.162610     (3, 11)\n",
            "6  0.325245     (11, 6)\n",
            "7  0.268345      (3, 6)\n",
            "8  0.144350  (3, 11, 6)\n",
            "Runtime of the program is 7.612210164000004\n",
            "    support itemsets\n",
            "0  0.365915     (11)\n",
            "1  0.456225      (3)\n",
            "2  0.607165      (6)\n",
            "3  0.325245  (11, 6)\n",
            "4  0.268345   (3, 6)\n",
            "Runtime of the program is 7.492856254999992\n",
            "    support itemsets\n",
            "0  0.365915     (11)\n",
            "1  0.456225      (3)\n",
            "2  0.607165      (6)\n",
            "3  0.325245  (11, 6)\n",
            "Runtime of the program is 7.397690964000006\n",
            "    support itemsets\n",
            "0  0.456225      (3)\n",
            "1  0.607165      (6)\n",
            "Runtime of the program is 7.411035124999998\n",
            "    support itemsets\n",
            "0  0.607165      (6)\n",
            "Runtime of the program is 7.332417019999994\n",
            "    support itemsets\n",
            "0  0.607165      (6)\n",
            "Runtime of the program is 7.279322709999988\n"
          ],
          "name": "stdout"
        }
      ]
    },
    {
      "cell_type": "code",
      "metadata": {
        "colab": {
          "base_uri": "https://localhost:8080/",
          "height": 279
        },
        "id": "_c3yS_Vzqp4E",
        "outputId": "044338ef-0f8a-4096-a691-1157e66a966f"
      },
      "source": [
        "plt.xlabel('Minimum Threshold')\n",
        "plt.ylabel('Time Complexity')\n",
        "plt.plot(apk_elements, apk_times, label ='Apriori')\n",
        "plt.grid()\n",
        "plt.legend()\n",
        "plt.savefig('Apriorikosarak.pdf',bbox_inches='tight')\n",
        "plt.show()\n"
      ],
      "execution_count": null,
      "outputs": [
        {
          "output_type": "display_data",
          "data": {
            "image/png": "[encoded data removed]",
            "text/plain": [
              "<Figure size 432x288 with 1 Axes>"
            ]
          },
          "metadata": {
            "tags": [],
            "needs_background": "light"
          }
        }
      ]
    },
    {
      "cell_type": "markdown",
      "metadata": {
        "id": "rbnCGZ7mqw8w"
      },
      "source": [
        "# FP-Growth on Kosarak"
      ]
    },
    {
      "cell_type": "code",
      "metadata": {
        "id": "XTJ1z-u5RlOZ"
      },
      "source": [
        "import numpy as np\n",
        "import time\n",
        "import matplotlib.pyplot as plt\n",
        "import pandas as pd\n",
        "from mlxtend.frequent_patterns import apriori, association_rules,fpgrowth\n",
        "from mlxtend.preprocessing import TransactionEncoder\n",
        "import csv"
      ],
      "execution_count": null,
      "outputs": []
    },
    {
      "cell_type": "code",
      "metadata": {
        "id": "Z1f-AFLjqw8x"
      },
      "source": [
        "items=[]\n",
        "with open('/content/kosarak.dat', 'r') as file:\n",
        "    dataset = csv.reader(file, delimiter=' ')\n",
        "    for row in dataset:\n",
        "        temp=[element for element in row]\n",
        "        items.append(temp)"
      ],
      "execution_count": null,
      "outputs": []
    },
    {
      "cell_type": "code",
      "metadata": {
        "id": "Z0RLl1CCqw8y"
      },
      "source": [
        "del items[200000:]"
      ],
      "execution_count": null,
      "outputs": []
    },
    {
      "cell_type": "code",
      "metadata": {
        "colab": {
          "base_uri": "https://localhost:8080/"
        },
        "id": "LExfa7jPqw80",
        "outputId": "a80ab373-4235-4f9d-a0d3-6f8e579f3ea2"
      },
      "source": [
        "\n",
        "fpk_times = list()\n",
        "fpk_elements = list()\n",
        "minsupport = .1\n",
        "while minsupport <=.6:\n",
        "  \n",
        "  te = TransactionEncoder()\n",
        "  te_ary = te.fit(items).transform(items)\n",
        "  df = pd.DataFrame(te_ary, columns=te.columns_)\n",
        "  start = time.process_time()\n",
        "  result= fpgrowth(df, min_support= minsupport, use_colnames=True)\n",
        "  fpk_elements.append(minsupport)    \n",
        "  end = time.process_time()\n",
        "  fpk_times.append(end-start)\n",
        "  print (result)\n",
        "  # total time taken\n",
        "  print(f\"Runtime of the program is {end - start}\")\n",
        "  minsupport +=.1"
      ],
      "execution_count": null,
      "outputs": [
        {
          "output_type": "stream",
          "text": [
            "    support    itemsets\n",
            "0  0.456225         (3)\n",
            "1  0.198790         (1)\n",
            "2  0.607165         (6)\n",
            "3  0.365915        (11)\n",
            "4  0.268345      (3, 6)\n",
            "5  0.132615      (1, 6)\n",
            "6  0.325245     (11, 6)\n",
            "7  0.162610     (3, 11)\n",
            "8  0.144350  (3, 11, 6)\n",
            "Runtime of the program is 7.544084037000005\n",
            "    support itemsets\n",
            "0  0.456225      (3)\n",
            "1  0.607165      (6)\n",
            "2  0.365915     (11)\n",
            "3  0.268345   (3, 6)\n",
            "4  0.325245  (11, 6)\n",
            "Runtime of the program is 7.542767176000012\n",
            "    support itemsets\n",
            "0  0.456225      (3)\n",
            "1  0.607165      (6)\n",
            "2  0.365915     (11)\n",
            "3  0.325245  (11, 6)\n",
            "Runtime of the program is 7.537458122999993\n",
            "    support itemsets\n",
            "0  0.456225      (3)\n",
            "1  0.607165      (6)\n",
            "Runtime of the program is 7.496398278000015\n",
            "    support itemsets\n",
            "0  0.607165      (6)\n",
            "Runtime of the program is 7.425130177999989\n",
            "    support itemsets\n",
            "0  0.607165      (6)\n",
            "Runtime of the program is 7.434092456999991\n"
          ],
          "name": "stdout"
        }
      ]
    },
    {
      "cell_type": "code",
      "metadata": {
        "colab": {
          "base_uri": "https://localhost:8080/",
          "height": 279
        },
        "id": "v9e85gn5qw80",
        "outputId": "aed985ef-787d-4df2-ee46-676edf7352cf"
      },
      "source": [
        "plt.xlabel('Minimum Threshold')\n",
        "plt.ylabel('Time Complexity')\n",
        "plt.plot(fpk_elements, fpk_times, label ='Fp-Growth')\n",
        "plt.grid()\n",
        "plt.legend()\n",
        "plt.savefig('fpgrowthkosarak.pdf',bbox_inches='tight')\n",
        "plt.show()\n"
      ],
      "execution_count": null,
      "outputs": [
        {
          "output_type": "display_data",
          "data": {
            "image/png": "[encoded data removed]",
            "text/plain": [
              "<Figure size 432x288 with 1 Axes>"
            ]
          },
          "metadata": {
            "tags": [],
            "needs_background": "light"
          }
        }
      ]
    },
    {
      "cell_type": "code",
      "metadata": {
        "id": "JbvadM09_6tc",
        "colab": {
          "base_uri": "https://localhost:8080/",
          "height": 279
        },
        "outputId": "7fc8b696-8e1d-4405-a791-d33078a3c34c"
      },
      "source": [
        "plt.xlabel('Minimum Threshold')\n",
        "plt.ylabel('Time Complexity')\n",
        "plt.plot(apk_elements, apk_times, label ='Apriori')\n",
        "plt.plot(fpk_elements, fpk_times, label ='Fp-Growth')\n",
        "plt.grid()\n",
        "plt.legend()\n",
        "plt.savefig('kosarakcombine.pdf',bbox_inches='tight')\n",
        "plt.show()"
      ],
      "execution_count": null,
      "outputs": [
        {
          "output_type": "display_data",
          "data": {
            "image/png": "[encoded data removed]",
            "text/plain": [
              "<Figure size 432x288 with 1 Axes>"
            ]
          },
          "metadata": {
            "tags": [],
            "needs_background": "light"
          }
        }
      ]
    },
    {
      "cell_type": "code",
      "metadata": {
        "id": "wlS91cVq4Cr4",
        "colab": {
          "base_uri": "https://localhost:8080/",
          "height": 322
        },
        "outputId": "42733bd3-83fe-40fe-8e79-7e6bffce1168"
      },
      "source": [
        "data={\"Apriori\":apk_times,\"Fp-Growth\":fpk_times}\n",
        "index = [0.1,0.2,0.3,0.4,0.5,0.6]\n",
        "dataFrame = pd.DataFrame(data=data, index=index);\n",
        "\n",
        " \n",
        "my_colors = ['lightseagreen','sandybrown']\n",
        "# Draw a vertical bar chart\n",
        "\n",
        "dataFrame.plot.bar(rot=15,color=my_colors);\n",
        "plt.legend(loc='upper center', bbox_to_anchor=(0.5, 1.2))\n",
        "plt.ylabel(\"Times Taken to Run Fp Growth Algorithm\")\n",
        "plt.xlabel(\"Thresholds\")\n",
        "plt.savefig('Kosarak.pdf',bbox_inches='tight')\n",
        "\n",
        "plt.show(block=True);"
      ],
      "execution_count": null,
      "outputs": [
        {
          "output_type": "display_data",
          "data": {
            "image/png": "[encoded data removed]",
            "text/plain": [
              "<Figure size 432x288 with 1 Axes>"
            ]
          },
          "metadata": {
            "tags": [],
            "needs_background": "light"
          }
        }
      ]
    },
    {
      "cell_type": "code",
      "metadata": {
        "colab": {
          "base_uri": "https://localhost:8080/"
        },
        "id": "AozMYyXi8qvT",
        "outputId": "44ce3a4d-ceb3-4ce6-ca1d-70e0e515ae14"
      },
      "source": [
        ""
      ],
      "execution_count": null,
      "outputs": [
        {
          "output_type": "execute_result",
          "data": {
            "text/plain": [
              "<_csv.reader at 0x7f9c13156650>"
            ]
          },
          "metadata": {
            "tags": []
          },
          "execution_count": 26
        }
      ]
    }
  ]
}